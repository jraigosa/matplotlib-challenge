{
 "cells": [
  {
   "cell_type": "markdown",
   "metadata": {},
   "source": [
    "## Dependencies and starter code"
   ]
  },
  {
   "cell_type": "code",
   "execution_count": 333,
   "metadata": {},
   "outputs": [],
   "source": [
    "# Dependencies and Setup\n",
    "import matplotlib.pyplot as plt\n",
    "import pandas as pd\n",
    "import scipy.stats as st\n",
    "from scipy.stats import linregress\n",
    "\n",
    "# Study data files\n",
    "mouse_metadata = \"data/Mouse_metadata.csv\"\n",
    "study_results = \"data/Study_results.csv\"\n",
    "\n",
    "# Read the mouse data and the study results\n",
    "mouse_metadata = pd.read_csv(mouse_metadata)\n",
    "study_results = pd.read_csv(study_results)"
   ]
  },
  {
   "cell_type": "code",
   "execution_count": 336,
   "metadata": {},
   "outputs": [
    {
     "data": {
      "text/html": [
       "<div>\n",
       "<style scoped>\n",
       "    .dataframe tbody tr th:only-of-type {\n",
       "        vertical-align: middle;\n",
       "    }\n",
       "\n",
       "    .dataframe tbody tr th {\n",
       "        vertical-align: top;\n",
       "    }\n",
       "\n",
       "    .dataframe thead th {\n",
       "        text-align: right;\n",
       "    }\n",
       "</style>\n",
       "<table border=\"1\" class=\"dataframe\">\n",
       "  <thead>\n",
       "    <tr style=\"text-align: right;\">\n",
       "      <th></th>\n",
       "      <th>Mouse ID</th>\n",
       "      <th>Drug Regimen</th>\n",
       "      <th>Sex</th>\n",
       "      <th>Age_months</th>\n",
       "      <th>Weight (g)</th>\n",
       "    </tr>\n",
       "  </thead>\n",
       "  <tbody>\n",
       "    <tr>\n",
       "      <td>0</td>\n",
       "      <td>k403</td>\n",
       "      <td>Ramicane</td>\n",
       "      <td>Male</td>\n",
       "      <td>21</td>\n",
       "      <td>16</td>\n",
       "    </tr>\n",
       "    <tr>\n",
       "      <td>1</td>\n",
       "      <td>s185</td>\n",
       "      <td>Capomulin</td>\n",
       "      <td>Female</td>\n",
       "      <td>3</td>\n",
       "      <td>17</td>\n",
       "    </tr>\n",
       "    <tr>\n",
       "      <td>2</td>\n",
       "      <td>x401</td>\n",
       "      <td>Capomulin</td>\n",
       "      <td>Female</td>\n",
       "      <td>16</td>\n",
       "      <td>15</td>\n",
       "    </tr>\n",
       "    <tr>\n",
       "      <td>3</td>\n",
       "      <td>m601</td>\n",
       "      <td>Capomulin</td>\n",
       "      <td>Male</td>\n",
       "      <td>22</td>\n",
       "      <td>17</td>\n",
       "    </tr>\n",
       "    <tr>\n",
       "      <td>4</td>\n",
       "      <td>g791</td>\n",
       "      <td>Ramicane</td>\n",
       "      <td>Male</td>\n",
       "      <td>11</td>\n",
       "      <td>16</td>\n",
       "    </tr>\n",
       "  </tbody>\n",
       "</table>\n",
       "</div>"
      ],
      "text/plain": [
       "  Mouse ID Drug Regimen     Sex  Age_months  Weight (g)\n",
       "0     k403     Ramicane    Male          21          16\n",
       "1     s185    Capomulin  Female           3          17\n",
       "2     x401    Capomulin  Female          16          15\n",
       "3     m601    Capomulin    Male          22          17\n",
       "4     g791     Ramicane    Male          11          16"
      ]
     },
     "execution_count": 336,
     "metadata": {},
     "output_type": "execute_result"
    }
   ],
   "source": [
    "# Examine the data.  This is information about each mouse in the study\n",
    "mouse_metadata.head(5)"
   ]
  },
  {
   "cell_type": "code",
   "execution_count": 64,
   "metadata": {},
   "outputs": [
    {
     "data": {
      "text/html": [
       "<div>\n",
       "<style scoped>\n",
       "    .dataframe tbody tr th:only-of-type {\n",
       "        vertical-align: middle;\n",
       "    }\n",
       "\n",
       "    .dataframe tbody tr th {\n",
       "        vertical-align: top;\n",
       "    }\n",
       "\n",
       "    .dataframe thead th {\n",
       "        text-align: right;\n",
       "    }\n",
       "</style>\n",
       "<table border=\"1\" class=\"dataframe\">\n",
       "  <thead>\n",
       "    <tr style=\"text-align: right;\">\n",
       "      <th></th>\n",
       "      <th>Mouse ID</th>\n",
       "      <th>Timepoint</th>\n",
       "      <th>Tumor Volume (mm3)</th>\n",
       "      <th>Metastatic Sites</th>\n",
       "    </tr>\n",
       "  </thead>\n",
       "  <tbody>\n",
       "    <tr>\n",
       "      <td>0</td>\n",
       "      <td>b128</td>\n",
       "      <td>0</td>\n",
       "      <td>45.0</td>\n",
       "      <td>0</td>\n",
       "    </tr>\n",
       "    <tr>\n",
       "      <td>1</td>\n",
       "      <td>f932</td>\n",
       "      <td>0</td>\n",
       "      <td>45.0</td>\n",
       "      <td>0</td>\n",
       "    </tr>\n",
       "    <tr>\n",
       "      <td>2</td>\n",
       "      <td>g107</td>\n",
       "      <td>0</td>\n",
       "      <td>45.0</td>\n",
       "      <td>0</td>\n",
       "    </tr>\n",
       "    <tr>\n",
       "      <td>3</td>\n",
       "      <td>a457</td>\n",
       "      <td>0</td>\n",
       "      <td>45.0</td>\n",
       "      <td>0</td>\n",
       "    </tr>\n",
       "    <tr>\n",
       "      <td>4</td>\n",
       "      <td>c819</td>\n",
       "      <td>0</td>\n",
       "      <td>45.0</td>\n",
       "      <td>0</td>\n",
       "    </tr>\n",
       "  </tbody>\n",
       "</table>\n",
       "</div>"
      ],
      "text/plain": [
       "  Mouse ID  Timepoint  Tumor Volume (mm3)  Metastatic Sites\n",
       "0     b128          0                45.0                 0\n",
       "1     f932          0                45.0                 0\n",
       "2     g107          0                45.0                 0\n",
       "3     a457          0                45.0                 0\n",
       "4     c819          0                45.0                 0"
      ]
     },
     "execution_count": 64,
     "metadata": {},
     "output_type": "execute_result"
    }
   ],
   "source": [
    "# This is tumor volume data collected on each mouse a sa function of time\n",
    "study_results.head(5)"
   ]
  },
  {
   "cell_type": "code",
   "execution_count": 66,
   "metadata": {},
   "outputs": [],
   "source": [
    "# Combine the data into a single dataset\n",
    "result = pd.merge(mouse_metadata,study_results,how=\"outer\",on=\"Mouse ID\")"
   ]
  },
  {
   "cell_type": "code",
   "execution_count": 347,
   "metadata": {},
   "outputs": [
    {
     "data": {
      "text/html": [
       "<div>\n",
       "<style scoped>\n",
       "    .dataframe tbody tr th:only-of-type {\n",
       "        vertical-align: middle;\n",
       "    }\n",
       "\n",
       "    .dataframe tbody tr th {\n",
       "        vertical-align: top;\n",
       "    }\n",
       "\n",
       "    .dataframe thead th {\n",
       "        text-align: right;\n",
       "    }\n",
       "</style>\n",
       "<table border=\"1\" class=\"dataframe\">\n",
       "  <thead>\n",
       "    <tr style=\"text-align: right;\">\n",
       "      <th></th>\n",
       "      <th>Mouse ID</th>\n",
       "      <th>Drug Regimen</th>\n",
       "      <th>Sex</th>\n",
       "      <th>Age_months</th>\n",
       "      <th>Weight (g)</th>\n",
       "      <th>Timepoint</th>\n",
       "      <th>Tumor Volume (mm3)</th>\n",
       "      <th>Metastatic Sites</th>\n",
       "    </tr>\n",
       "  </thead>\n",
       "  <tbody>\n",
       "    <tr>\n",
       "      <td>0</td>\n",
       "      <td>k403</td>\n",
       "      <td>Ramicane</td>\n",
       "      <td>Male</td>\n",
       "      <td>21</td>\n",
       "      <td>16</td>\n",
       "      <td>0</td>\n",
       "      <td>45.000000</td>\n",
       "      <td>0</td>\n",
       "    </tr>\n",
       "    <tr>\n",
       "      <td>1</td>\n",
       "      <td>k403</td>\n",
       "      <td>Ramicane</td>\n",
       "      <td>Male</td>\n",
       "      <td>21</td>\n",
       "      <td>16</td>\n",
       "      <td>5</td>\n",
       "      <td>38.825898</td>\n",
       "      <td>0</td>\n",
       "    </tr>\n",
       "    <tr>\n",
       "      <td>2</td>\n",
       "      <td>k403</td>\n",
       "      <td>Ramicane</td>\n",
       "      <td>Male</td>\n",
       "      <td>21</td>\n",
       "      <td>16</td>\n",
       "      <td>10</td>\n",
       "      <td>35.014271</td>\n",
       "      <td>1</td>\n",
       "    </tr>\n",
       "    <tr>\n",
       "      <td>3</td>\n",
       "      <td>k403</td>\n",
       "      <td>Ramicane</td>\n",
       "      <td>Male</td>\n",
       "      <td>21</td>\n",
       "      <td>16</td>\n",
       "      <td>15</td>\n",
       "      <td>34.223992</td>\n",
       "      <td>1</td>\n",
       "    </tr>\n",
       "    <tr>\n",
       "      <td>4</td>\n",
       "      <td>k403</td>\n",
       "      <td>Ramicane</td>\n",
       "      <td>Male</td>\n",
       "      <td>21</td>\n",
       "      <td>16</td>\n",
       "      <td>20</td>\n",
       "      <td>32.997729</td>\n",
       "      <td>1</td>\n",
       "    </tr>\n",
       "    <tr>\n",
       "      <td>5</td>\n",
       "      <td>k403</td>\n",
       "      <td>Ramicane</td>\n",
       "      <td>Male</td>\n",
       "      <td>21</td>\n",
       "      <td>16</td>\n",
       "      <td>25</td>\n",
       "      <td>33.464577</td>\n",
       "      <td>1</td>\n",
       "    </tr>\n",
       "    <tr>\n",
       "      <td>6</td>\n",
       "      <td>k403</td>\n",
       "      <td>Ramicane</td>\n",
       "      <td>Male</td>\n",
       "      <td>21</td>\n",
       "      <td>16</td>\n",
       "      <td>30</td>\n",
       "      <td>31.099498</td>\n",
       "      <td>1</td>\n",
       "    </tr>\n",
       "    <tr>\n",
       "      <td>7</td>\n",
       "      <td>k403</td>\n",
       "      <td>Ramicane</td>\n",
       "      <td>Male</td>\n",
       "      <td>21</td>\n",
       "      <td>16</td>\n",
       "      <td>35</td>\n",
       "      <td>26.546993</td>\n",
       "      <td>1</td>\n",
       "    </tr>\n",
       "    <tr>\n",
       "      <td>8</td>\n",
       "      <td>k403</td>\n",
       "      <td>Ramicane</td>\n",
       "      <td>Male</td>\n",
       "      <td>21</td>\n",
       "      <td>16</td>\n",
       "      <td>40</td>\n",
       "      <td>24.365505</td>\n",
       "      <td>1</td>\n",
       "    </tr>\n",
       "    <tr>\n",
       "      <td>9</td>\n",
       "      <td>k403</td>\n",
       "      <td>Ramicane</td>\n",
       "      <td>Male</td>\n",
       "      <td>21</td>\n",
       "      <td>16</td>\n",
       "      <td>45</td>\n",
       "      <td>22.050126</td>\n",
       "      <td>1</td>\n",
       "    </tr>\n",
       "  </tbody>\n",
       "</table>\n",
       "</div>"
      ],
      "text/plain": [
       "  Mouse ID Drug Regimen   Sex  Age_months  Weight (g)  Timepoint  \\\n",
       "0     k403     Ramicane  Male          21          16          0   \n",
       "1     k403     Ramicane  Male          21          16          5   \n",
       "2     k403     Ramicane  Male          21          16         10   \n",
       "3     k403     Ramicane  Male          21          16         15   \n",
       "4     k403     Ramicane  Male          21          16         20   \n",
       "5     k403     Ramicane  Male          21          16         25   \n",
       "6     k403     Ramicane  Male          21          16         30   \n",
       "7     k403     Ramicane  Male          21          16         35   \n",
       "8     k403     Ramicane  Male          21          16         40   \n",
       "9     k403     Ramicane  Male          21          16         45   \n",
       "\n",
       "   Tumor Volume (mm3)  Metastatic Sites  \n",
       "0           45.000000                 0  \n",
       "1           38.825898                 0  \n",
       "2           35.014271                 1  \n",
       "3           34.223992                 1  \n",
       "4           32.997729                 1  \n",
       "5           33.464577                 1  \n",
       "6           31.099498                 1  \n",
       "7           26.546993                 1  \n",
       "8           24.365505                 1  \n",
       "9           22.050126                 1  "
      ]
     },
     "execution_count": 347,
     "metadata": {},
     "output_type": "execute_result"
    }
   ],
   "source": [
    "# Combined data allows maping the drug regimen to data about tumor volume\n",
    "result.head(10)"
   ]
  },
  {
   "cell_type": "code",
   "execution_count": 344,
   "metadata": {},
   "outputs": [
    {
     "data": {
      "text/plain": [
       "Capomulin    230\n",
       "Ramicane     228\n",
       "Ketapril     188\n",
       "Naftisol     186\n",
       "Zoniferol    182\n",
       "Placebo      181\n",
       "Stelasyn     181\n",
       "Infubinol    178\n",
       "Ceftamin     178\n",
       "Propriva     161\n",
       "Name: Drug Regimen, dtype: int64"
      ]
     },
     "execution_count": 344,
     "metadata": {},
     "output_type": "execute_result"
    }
   ],
   "source": [
    "# Determine the number of data points for each drug regimen\n",
    "result[\"Drug Regimen\"].value_counts()"
   ]
  },
  {
   "cell_type": "code",
   "execution_count": 345,
   "metadata": {},
   "outputs": [],
   "source": [
    "# Group the results by drug regimen\n",
    "result_by_regimen = result.groupby(\"Drug Regimen\")"
   ]
  },
  {
   "cell_type": "code",
   "execution_count": 346,
   "metadata": {},
   "outputs": [],
   "source": [
    "# Gather statistical data for each drug regimen from groupby \n",
    "mean_tumor_volume_by_regimen = result_by_regimen[\"Tumor Volume (mm3)\"].mean()\n",
    "median_tumor_volume_by_regimen = result_by_regimen[\"Tumor Volume (mm3)\"].median()\n",
    "variance_tumor_volume_by_regimen = result_by_regimen[\"Tumor Volume (mm3)\"].var()\n",
    "stddev_tumor_volume_by_regimen = result_by_regimen[\"Tumor Volume (mm3)\"].std()\n",
    "sem_tumor_volume_by_regimen = result_by_regimen[\"Tumor Volume (mm3)\"].sem()"
   ]
  },
  {
   "cell_type": "markdown",
   "metadata": {},
   "source": [
    "## Summary statistics"
   ]
  },
  {
   "cell_type": "code",
   "execution_count": 348,
   "metadata": {},
   "outputs": [
    {
     "data": {
      "text/html": [
       "<div>\n",
       "<style scoped>\n",
       "    .dataframe tbody tr th:only-of-type {\n",
       "        vertical-align: middle;\n",
       "    }\n",
       "\n",
       "    .dataframe tbody tr th {\n",
       "        vertical-align: top;\n",
       "    }\n",
       "\n",
       "    .dataframe thead th {\n",
       "        text-align: right;\n",
       "    }\n",
       "</style>\n",
       "<table border=\"1\" class=\"dataframe\">\n",
       "  <thead>\n",
       "    <tr style=\"text-align: right;\">\n",
       "      <th></th>\n",
       "      <th>Mean</th>\n",
       "      <th>Median</th>\n",
       "      <th>Variance</th>\n",
       "      <th>Std dev</th>\n",
       "      <th>SEM</th>\n",
       "    </tr>\n",
       "    <tr>\n",
       "      <th>Drug Regimen</th>\n",
       "      <th></th>\n",
       "      <th></th>\n",
       "      <th></th>\n",
       "      <th></th>\n",
       "      <th></th>\n",
       "    </tr>\n",
       "  </thead>\n",
       "  <tbody>\n",
       "    <tr>\n",
       "      <td>Ramicane</td>\n",
       "      <td>40.216745</td>\n",
       "      <td>40.673236</td>\n",
       "      <td>23.486704</td>\n",
       "      <td>4.846308</td>\n",
       "      <td>0.320955</td>\n",
       "    </tr>\n",
       "    <tr>\n",
       "      <td>Capomulin</td>\n",
       "      <td>40.675741</td>\n",
       "      <td>41.557809</td>\n",
       "      <td>24.947764</td>\n",
       "      <td>4.994774</td>\n",
       "      <td>0.329346</td>\n",
       "    </tr>\n",
       "    <tr>\n",
       "      <td>Ceftamin</td>\n",
       "      <td>52.591172</td>\n",
       "      <td>51.776157</td>\n",
       "      <td>39.290177</td>\n",
       "      <td>6.268188</td>\n",
       "      <td>0.469821</td>\n",
       "    </tr>\n",
       "    <tr>\n",
       "      <td>Infubinol</td>\n",
       "      <td>52.884795</td>\n",
       "      <td>51.820584</td>\n",
       "      <td>43.128684</td>\n",
       "      <td>6.567243</td>\n",
       "      <td>0.492236</td>\n",
       "    </tr>\n",
       "    <tr>\n",
       "      <td>Propriva</td>\n",
       "      <td>52.322552</td>\n",
       "      <td>50.854632</td>\n",
       "      <td>42.351070</td>\n",
       "      <td>6.507770</td>\n",
       "      <td>0.512884</td>\n",
       "    </tr>\n",
       "    <tr>\n",
       "      <td>Zoniferol</td>\n",
       "      <td>53.236507</td>\n",
       "      <td>51.818479</td>\n",
       "      <td>48.533355</td>\n",
       "      <td>6.966589</td>\n",
       "      <td>0.516398</td>\n",
       "    </tr>\n",
       "    <tr>\n",
       "      <td>Stelasyn</td>\n",
       "      <td>54.233149</td>\n",
       "      <td>52.431737</td>\n",
       "      <td>59.450562</td>\n",
       "      <td>7.710419</td>\n",
       "      <td>0.573111</td>\n",
       "    </tr>\n",
       "    <tr>\n",
       "      <td>Placebo</td>\n",
       "      <td>54.033581</td>\n",
       "      <td>52.288934</td>\n",
       "      <td>61.168083</td>\n",
       "      <td>7.821003</td>\n",
       "      <td>0.581331</td>\n",
       "    </tr>\n",
       "    <tr>\n",
       "      <td>Naftisol</td>\n",
       "      <td>54.331565</td>\n",
       "      <td>52.509285</td>\n",
       "      <td>66.173479</td>\n",
       "      <td>8.134708</td>\n",
       "      <td>0.596466</td>\n",
       "    </tr>\n",
       "    <tr>\n",
       "      <td>Ketapril</td>\n",
       "      <td>55.235638</td>\n",
       "      <td>53.698743</td>\n",
       "      <td>68.553577</td>\n",
       "      <td>8.279709</td>\n",
       "      <td>0.603860</td>\n",
       "    </tr>\n",
       "  </tbody>\n",
       "</table>\n",
       "</div>"
      ],
      "text/plain": [
       "                   Mean     Median   Variance   Std dev       SEM\n",
       "Drug Regimen                                                     \n",
       "Ramicane      40.216745  40.673236  23.486704  4.846308  0.320955\n",
       "Capomulin     40.675741  41.557809  24.947764  4.994774  0.329346\n",
       "Ceftamin      52.591172  51.776157  39.290177  6.268188  0.469821\n",
       "Infubinol     52.884795  51.820584  43.128684  6.567243  0.492236\n",
       "Propriva      52.322552  50.854632  42.351070  6.507770  0.512884\n",
       "Zoniferol     53.236507  51.818479  48.533355  6.966589  0.516398\n",
       "Stelasyn      54.233149  52.431737  59.450562  7.710419  0.573111\n",
       "Placebo       54.033581  52.288934  61.168083  7.821003  0.581331\n",
       "Naftisol      54.331565  52.509285  66.173479  8.134708  0.596466\n",
       "Ketapril      55.235638  53.698743  68.553577  8.279709  0.603860"
      ]
     },
     "execution_count": 348,
     "metadata": {},
     "output_type": "execute_result"
    }
   ],
   "source": [
    "# Generate a summary statistics table of mean, median, variance, standard deviation,\n",
    "# and SEM of the tumor volume for each regimen\n",
    "# Construct a data from from series of statistical data avoe\n",
    "regimen_summary = pd.DataFrame( {\"Mean\":mean_tumor_volume_by_regimen,\"Median\":median_tumor_volume_by_regimen,\n",
    "                                \"Variance\":variance_tumor_volume_by_regimen,\"Std dev\":stddev_tumor_volume_by_regimen,\n",
    "                                \"SEM\":sem_tumor_volume_by_regimen} )\n",
    "# Sort by SEM to determine the most effecive regimen\n",
    "regimen_summary.sort_values(\"SEM\")"
   ]
  },
  {
   "cell_type": "code",
   "execution_count": 267,
   "metadata": {},
   "outputs": [],
   "source": [
    "# Store the values of the most effective regimens\n",
    "most_effective_drugs = regimen_summary.sort_values(\"SEM\").index.tolist()[0:4]"
   ]
  },
  {
   "cell_type": "markdown",
   "metadata": {},
   "source": [
    "## Bar plots"
   ]
  },
  {
   "cell_type": "code",
   "execution_count": 343,
   "metadata": {},
   "outputs": [
    {
     "data": {
      "text/plain": [
       "Text(0, 0.5, 'Data Points')"
      ]
     },
     "execution_count": 343,
     "metadata": {},
     "output_type": "execute_result"
    },
    {
     "data": {
      "image/png": "[encoded data removed]",
      "text/plain": [
       "<Figure size 432x288 with 1 Axes>"
      ]
     },
     "metadata": {
      "needs_background": "light"
     },
     "output_type": "display_data"
    }
   ],
   "source": [
    "# Generate a bar plot showing number of data points for each treatment regimen using pandas\n",
    "pdplot = result[\"Drug Regimen\"].value_counts().plot( kind=\"bar\", width=.8, title=\"Data Points per Regimen\",                                                     )\n",
    "pdplot.set_ylabel('Data Points')"
   ]
  },
  {
   "cell_type": "code",
   "execution_count": 349,
   "metadata": {},
   "outputs": [
    {
     "data": {
      "text/plain": [
       "Text(0, 0.5, 'Data Points')"
      ]
     },
     "execution_count": 349,
     "metadata": {},
     "output_type": "execute_result"
    },
    {
     "data": {
      "image/png": "[encoded data removed]",
      "text/plain": [
       "<Figure size 432x288 with 1 Axes>"
      ]
     },
     "metadata": {
      "needs_background": "light"
     },
     "output_type": "display_data"
    }
   ],
   "source": [
    "# Generate a bar plot showing number of data points for each treatment regimen using pyplot\n",
    "plt.bar(result[\"Drug Regimen\"].value_counts().index, result[\"Drug Regimen\"].value_counts(), width=.8)\n",
    "plt.xticks(rotation =90)\n",
    "plt.title(\"Data Points per Regimen\")\n",
    "plt.ylabel(\"Data Points\")"
   ]
  },
  {
   "cell_type": "markdown",
   "metadata": {},
   "source": [
    "## Pie plots"
   ]
  },
  {
   "cell_type": "code",
   "execution_count": 351,
   "metadata": {},
   "outputs": [
    {
     "data": {
      "text/plain": [
       "<matplotlib.axes._subplots.AxesSubplot at 0x1a2cc81950>"
      ]
     },
     "execution_count": 351,
     "metadata": {},
     "output_type": "execute_result"
    },
    {
     "data": {
      "image/png": "[encoded data removed]",
      "text/plain": [
       "<Figure size 432x288 with 1 Axes>"
      ]
     },
     "metadata": {},
     "output_type": "display_data"
    }
   ],
   "source": [
    "# Generate a pie plot showing the distribution of female versus male mice using pandas\n",
    "mouse_metadata['Sex'].value_counts().plot(kind=\"pie\" )"
   ]
  },
  {
   "cell_type": "code",
   "execution_count": 98,
   "metadata": {},
   "outputs": [
    {
     "data": {
      "image/png": "[encoded data removed]",
      "text/plain": [
       "<Figure size 432x288 with 1 Axes>"
      ]
     },
     "metadata": {},
     "output_type": "display_data"
    }
   ],
   "source": [
    "# Generate a pie plot showing the distribution of female versus male mice using pyplot\n",
    "plt.pie(mouse_metadata['Sex'].value_counts(), labels=[\"Male\",\"Female\"])\n",
    "plt.title(\"Sex\")\n",
    "plt.show()"
   ]
  },
  {
   "cell_type": "markdown",
   "metadata": {},
   "source": [
    "## Quartiles, outliers and boxplots"
   ]
  },
  {
   "cell_type": "code",
   "execution_count": 352,
   "metadata": {},
   "outputs": [],
   "source": [
    "# Calculate the final tumor volume of each mouse across four of the most promising treatment regimens. \n",
    "# Calculate the IQR and quantitatively determine if there are any potential outliers"
   ]
  },
  {
   "cell_type": "code",
   "execution_count": 355,
   "metadata": {},
   "outputs": [
    {
     "data": {
      "text/plain": [
       "pandas.core.series.Series"
      ]
     },
     "execution_count": 355,
     "metadata": {},
     "output_type": "execute_result"
    }
   ],
   "source": [
    "# Create groupby by mouse to create a series that maps each mouse to its max timepoint\n",
    "results_by_mouse = result.groupby(\"Mouse ID\")\n",
    "max_timepoint_by_mouse = results_by_mouse[\"Timepoint\"].max()"
   ]
  },
  {
   "cell_type": "code",
   "execution_count": 354,
   "metadata": {},
   "outputs": [],
   "source": [
    "# Iterate over the data frame, using the previous series to only record the data from the max timepoint into a new dictionary\n",
    "max_dict = {}\n",
    "for index, row in result.iterrows():\n",
    "    if row[\"Drug Regimen\"] in most_effective_drugs:\n",
    "        if row['Timepoint'] == max_timepoint_by_mouse[ row['Mouse ID']]:\n",
    "            if row[\"Drug Regimen\"] not in max_dict:\n",
    "                max_dict[row[\"Drug Regimen\"]] = [row]\n",
    "            else:\n",
    "                max_dict[row[\"Drug Regimen\"]].append( row )"
   ]
  },
  {
   "cell_type": "code",
   "execution_count": 358,
   "metadata": {},
   "outputs": [],
   "source": [
    "# Iterate over over dict created above, extracting only tumor volume into anew dictionary\n",
    "final_tumor_size = {}\n",
    "for key in max_dict:\n",
    "    if key not in final_tumor_size:\n",
    "        final_tumor_size[key] = []\n",
    "        for item in max_dict[key]:\n",
    "            final_tumor_size[key].append( item[\"Tumor Volume (mm3)\"] )\n",
    "    else:\n",
    "        for item in max_dict[key]:\n",
    "            final_tumor_size[key].append( item[\"Tumor Volume (mm3)\"] )"
   ]
  },
  {
   "cell_type": "code",
   "execution_count": 359,
   "metadata": {},
   "outputs": [
    {
     "data": {
      "text/plain": [
       "{'Ramicane': [22.05012627,\n",
       "  29.12847181,\n",
       "  30.27623175,\n",
       "  30.56462509,\n",
       "  30.63869575,\n",
       "  31.56046955,\n",
       "  31.09533505,\n",
       "  33.39765251,\n",
       "  32.97852192,\n",
       "  33.56240217,\n",
       "  36.13485243,\n",
       "  38.81036633,\n",
       "  37.22565033,\n",
       "  36.37451039,\n",
       "  36.56165229,\n",
       "  37.31123552,\n",
       "  38.34200823,\n",
       "  38.407618299999996,\n",
       "  40.65900627,\n",
       "  40.66771292,\n",
       "  45.22086888,\n",
       "  43.04754260000001,\n",
       "  43.41938077,\n",
       "  43.16637266,\n",
       "  44.18345092],\n",
       " 'Capomulin': [23.34359787,\n",
       "  28.48403281,\n",
       "  28.43096411,\n",
       "  30.48598484,\n",
       "  31.02392294,\n",
       "  31.896238399999998,\n",
       "  32.37735684,\n",
       "  33.32909778,\n",
       "  34.45529799,\n",
       "  37.31184577,\n",
       "  36.04104736,\n",
       "  37.07402422,\n",
       "  38.84687569,\n",
       "  38.93963263,\n",
       "  38.98287774,\n",
       "  38.75326548,\n",
       "  38.125164399999996,\n",
       "  39.95234669,\n",
       "  40.65812366,\n",
       "  40.1592203,\n",
       "  40.72857787,\n",
       "  41.48300765,\n",
       "  41.58152074,\n",
       "  47.68596303,\n",
       "  46.53920617],\n",
       " 'Infubinol': [67.97341878,\n",
       "  65.52574285,\n",
       "  57.03186187,\n",
       "  66.08306589,\n",
       "  72.2267309,\n",
       "  36.321345799999996,\n",
       "  60.96971133,\n",
       "  62.43540402,\n",
       "  60.91876652,\n",
       "  67.28962147,\n",
       "  66.19691151,\n",
       "  62.11727887,\n",
       "  47.01036401,\n",
       "  60.16518046,\n",
       "  55.62942846,\n",
       "  45.69933088,\n",
       "  54.65654872,\n",
       "  55.65068132,\n",
       "  46.25011212,\n",
       "  54.04860769,\n",
       "  51.54243058,\n",
       "  50.00513807,\n",
       "  58.26844248,\n",
       "  67.68556862,\n",
       "  62.75445141],\n",
       " 'Ceftamin': [62.99935619,\n",
       "  45.0,\n",
       "  56.05774909,\n",
       "  55.74282869,\n",
       "  48.72207785,\n",
       "  47.784681799999994,\n",
       "  61.84902336,\n",
       "  68.92318457,\n",
       "  67.74866174,\n",
       "  57.91838132,\n",
       "  46.78453491,\n",
       "  59.85195552,\n",
       "  64.29983003,\n",
       "  59.74190064,\n",
       "  61.43389223,\n",
       "  64.19234114,\n",
       "  45.0,\n",
       "  52.92534846,\n",
       "  45.0,\n",
       "  67.52748237,\n",
       "  45.0,\n",
       "  64.63494887,\n",
       "  61.38666032,\n",
       "  68.59474498,\n",
       "  64.72983655]}"
      ]
     },
     "execution_count": 359,
     "metadata": {},
     "output_type": "execute_result"
    }
   ],
   "source": [
    "# New dict has drug regimen mapped to a list of final tumor volumes for each mouse\n",
    "final_tumor_size"
   ]
  },
  {
   "cell_type": "code",
   "execution_count": 364,
   "metadata": {},
   "outputs": [
    {
     "data": {
      "text/html": [
       "<div>\n",
       "<style scoped>\n",
       "    .dataframe tbody tr th:only-of-type {\n",
       "        vertical-align: middle;\n",
       "    }\n",
       "\n",
       "    .dataframe tbody tr th {\n",
       "        vertical-align: top;\n",
       "    }\n",
       "\n",
       "    .dataframe thead th {\n",
       "        text-align: right;\n",
       "    }\n",
       "</style>\n",
       "<table border=\"1\" class=\"dataframe\">\n",
       "  <thead>\n",
       "    <tr style=\"text-align: right;\">\n",
       "      <th></th>\n",
       "      <th>Ramicane</th>\n",
       "      <th>Capomulin</th>\n",
       "      <th>Infubinol</th>\n",
       "      <th>Ceftamin</th>\n",
       "    </tr>\n",
       "  </thead>\n",
       "  <tbody>\n",
       "    <tr>\n",
       "      <td>0</td>\n",
       "      <td>22.050126</td>\n",
       "      <td>23.343598</td>\n",
       "      <td>67.973419</td>\n",
       "      <td>62.999356</td>\n",
       "    </tr>\n",
       "    <tr>\n",
       "      <td>1</td>\n",
       "      <td>29.128472</td>\n",
       "      <td>28.484033</td>\n",
       "      <td>65.525743</td>\n",
       "      <td>45.000000</td>\n",
       "    </tr>\n",
       "    <tr>\n",
       "      <td>2</td>\n",
       "      <td>30.276232</td>\n",
       "      <td>28.430964</td>\n",
       "      <td>57.031862</td>\n",
       "      <td>56.057749</td>\n",
       "    </tr>\n",
       "    <tr>\n",
       "      <td>3</td>\n",
       "      <td>30.564625</td>\n",
       "      <td>30.485985</td>\n",
       "      <td>66.083066</td>\n",
       "      <td>55.742829</td>\n",
       "    </tr>\n",
       "    <tr>\n",
       "      <td>4</td>\n",
       "      <td>30.638696</td>\n",
       "      <td>31.023923</td>\n",
       "      <td>72.226731</td>\n",
       "      <td>48.722078</td>\n",
       "    </tr>\n",
       "    <tr>\n",
       "      <td>5</td>\n",
       "      <td>31.560470</td>\n",
       "      <td>31.896238</td>\n",
       "      <td>36.321346</td>\n",
       "      <td>47.784682</td>\n",
       "    </tr>\n",
       "    <tr>\n",
       "      <td>6</td>\n",
       "      <td>31.095335</td>\n",
       "      <td>32.377357</td>\n",
       "      <td>60.969711</td>\n",
       "      <td>61.849023</td>\n",
       "    </tr>\n",
       "    <tr>\n",
       "      <td>7</td>\n",
       "      <td>33.397653</td>\n",
       "      <td>33.329098</td>\n",
       "      <td>62.435404</td>\n",
       "      <td>68.923185</td>\n",
       "    </tr>\n",
       "    <tr>\n",
       "      <td>8</td>\n",
       "      <td>32.978522</td>\n",
       "      <td>34.455298</td>\n",
       "      <td>60.918767</td>\n",
       "      <td>67.748662</td>\n",
       "    </tr>\n",
       "    <tr>\n",
       "      <td>9</td>\n",
       "      <td>33.562402</td>\n",
       "      <td>37.311846</td>\n",
       "      <td>67.289621</td>\n",
       "      <td>57.918381</td>\n",
       "    </tr>\n",
       "  </tbody>\n",
       "</table>\n",
       "</div>"
      ],
      "text/plain": [
       "    Ramicane  Capomulin  Infubinol   Ceftamin\n",
       "0  22.050126  23.343598  67.973419  62.999356\n",
       "1  29.128472  28.484033  65.525743  45.000000\n",
       "2  30.276232  28.430964  57.031862  56.057749\n",
       "3  30.564625  30.485985  66.083066  55.742829\n",
       "4  30.638696  31.023923  72.226731  48.722078\n",
       "5  31.560470  31.896238  36.321346  47.784682\n",
       "6  31.095335  32.377357  60.969711  61.849023\n",
       "7  33.397653  33.329098  62.435404  68.923185\n",
       "8  32.978522  34.455298  60.918767  67.748662\n",
       "9  33.562402  37.311846  67.289621  57.918381"
      ]
     },
     "execution_count": 364,
     "metadata": {},
     "output_type": "execute_result"
    }
   ],
   "source": [
    "# Create a data from from the dictonary above w/ drug regimen mapped to final tumor volumes\n",
    "tumor_size_by_drug = pd.DataFrame( final_tumor_size )\n",
    "tumor_size_by_drug.head(10)"
   ]
  },
  {
   "cell_type": "code",
   "execution_count": 365,
   "metadata": {},
   "outputs": [],
   "source": [
    "# Calculate the final tumor volume of each mouse across four of the most promising treatment regimens. \n",
    "# Calculate the IQR and quantitatively determine if there are any potential outliers\n",
    "# If the data is in a dataframe, we use pandas to give quartile calculations"
   ]
  },
  {
   "cell_type": "code",
   "execution_count": 369,
   "metadata": {},
   "outputs": [
    {
     "name": "stdout",
     "output_type": "stream",
     "text": [
      "Sorted final tumor volumes for Ramicane\n",
      "0     22.050126\n",
      "1     29.128472\n",
      "2     30.276232\n",
      "3     30.564625\n",
      "4     30.638696\n",
      "6     31.095335\n",
      "5     31.560470\n",
      "8     32.978522\n",
      "7     33.397653\n",
      "9     33.562402\n",
      "10    36.134852\n",
      "13    36.374510\n",
      "14    36.561652\n",
      "12    37.225650\n",
      "15    37.311236\n",
      "16    38.342008\n",
      "17    38.407618\n",
      "11    38.810366\n",
      "18    40.659006\n",
      "19    40.667713\n",
      "21    43.047543\n",
      "23    43.166373\n",
      "22    43.419381\n",
      "24    44.183451\n",
      "20    45.220869\n",
      "Name: Ramicane, dtype: float64\n",
      "For final tumor volumes with Ramicane drug regimen:\n",
      "The lower quartile is: 31.56046955\n",
      "The upper quartile is: 40.65900627\n",
      "The interquartile range is: 9.098536719999998\n",
      "The the median is: 36.56165229 \n",
      "Values below 17.912664470000003 could be outliers.\n",
      "Values above 54.30681135 could be outliers.\n",
      "Ramicane has no outliers\n"
     ]
    }
   ],
   "source": [
    "# Sorted value for Ramicane\n",
    "print(\"Sorted final tumor volumes for Ramicane\")\n",
    "print( tumor_size_by_drug[\"Ramicane\"].sort_values() )\n",
    "\n",
    "#Calculate the quartiles and IQR for Ramicane\n",
    "quartiles_ramicane = tumor_size_by_drug[\"Ramicane\"].quantile([.25,.5,.75])\n",
    "lowerq_ramicane = quartiles_ramicane[0.25]\n",
    "upperq_ramicane = quartiles_ramicane[0.75]\n",
    "iqr_ramicane = upperq_ramicane-lowerq_ramicane\n",
    "\n",
    "print(\"For final tumor volumes with Ramicane drug regimen:\")\n",
    "print(f\"The lower quartile is: {lowerq_ramicane}\")\n",
    "print(f\"The upper quartile is: {upperq_ramicane}\")\n",
    "print(f\"The interquartile range is: {iqr_ramicane}\")\n",
    "print(f\"The the median is: {quartiles_ramicane[0.5]} \")\n",
    "\n",
    "# Calculate the bounds for outliers\n",
    "lower_bound_ramicane = lowerq_ramicane - (1.5*iqr_ramicane)\n",
    "upper_bound_ramicane = upperq_ramicane + (1.5*iqr_ramicane)\n",
    "print(f\"Values below {lower_bound_ramicane} could be outliers.\")\n",
    "print(f\"Values above {upper_bound_ramicane} could be outliers.\")\n",
    "print(\"Ramicane has no outliers\")"
   ]
  },
  {
   "cell_type": "code",
   "execution_count": 370,
   "metadata": {},
   "outputs": [
    {
     "name": "stdout",
     "output_type": "stream",
     "text": [
      "Sorted final tumor volumes for Capomulin\n",
      "0     23.343598\n",
      "2     28.430964\n",
      "1     28.484033\n",
      "3     30.485985\n",
      "4     31.023923\n",
      "5     31.896238\n",
      "6     32.377357\n",
      "7     33.329098\n",
      "8     34.455298\n",
      "10    36.041047\n",
      "11    37.074024\n",
      "9     37.311846\n",
      "16    38.125164\n",
      "15    38.753265\n",
      "12    38.846876\n",
      "13    38.939633\n",
      "14    38.982878\n",
      "17    39.952347\n",
      "19    40.159220\n",
      "18    40.658124\n",
      "20    40.728578\n",
      "21    41.483008\n",
      "22    41.581521\n",
      "24    46.539206\n",
      "23    47.685963\n",
      "Name: Capomulin, dtype: float64\n",
      "For final tumor volumes with Capomulin drug regimen:\n",
      "The lower quartile is: 32.37735684\n",
      "The upper quartile is: 40.1592203\n",
      "The interquartile range is: 7.781863460000004\n",
      "The the median is: 38.125164399999996 \n",
      "Values below 20.70456164999999 could be outliers.\n",
      "Values above 51.83201549 could be outliers.\n",
      "Capomulin has no outliers\n"
     ]
    }
   ],
   "source": [
    "# Sorted value for Capomulin\n",
    "print(\"Sorted final tumor volumes for Capomulin\")\n",
    "print( tumor_size_by_drug[\"Capomulin\"].sort_values() )\n",
    "\n",
    "#Calculate the quartiles and IQR for Capomulin\n",
    "quartiles_capomulin = tumor_size_by_drug[\"Capomulin\"].quantile([.25,.5,.75])\n",
    "lowerq_capomulin = quartiles_capomulin[0.25]\n",
    "upperq_capomulin = quartiles_capomulin[0.75]\n",
    "iqr_capomulin = upperq_capomulin-lowerq_capomulin\n",
    "\n",
    "print(\"For final tumor volumes with Capomulin drug regimen:\")\n",
    "print(f\"The lower quartile is: {lowerq_capomulin}\")\n",
    "print(f\"The upper quartile is: {upperq_capomulin}\")\n",
    "print(f\"The interquartile range is: {iqr_capomulin}\")\n",
    "print(f\"The the median is: {quartiles_capomulin[0.5]} \")\n",
    "\n",
    "lower_bound_capomulin = lowerq_capomulin - (1.5*iqr_capomulin)\n",
    "upper_bound_capomulin = upperq_capomulin + (1.5*iqr_capomulin)\n",
    "print(f\"Values below {lower_bound_capomulin} could be outliers.\")\n",
    "print(f\"Values above {upper_bound_capomulin} could be outliers.\")\n",
    "print(\"Capomulin has no outliers\")"
   ]
  },
  {
   "cell_type": "code",
   "execution_count": 371,
   "metadata": {},
   "outputs": [
    {
     "name": "stdout",
     "output_type": "stream",
     "text": [
      "Sorted final tumor volumes for Ceftamin\n",
      "20    45.000000\n",
      "1     45.000000\n",
      "18    45.000000\n",
      "16    45.000000\n",
      "10    46.784535\n",
      "5     47.784682\n",
      "4     48.722078\n",
      "17    52.925348\n",
      "3     55.742829\n",
      "2     56.057749\n",
      "9     57.918381\n",
      "13    59.741901\n",
      "11    59.851956\n",
      "22    61.386660\n",
      "14    61.433892\n",
      "6     61.849023\n",
      "0     62.999356\n",
      "15    64.192341\n",
      "12    64.299830\n",
      "21    64.634949\n",
      "24    64.729837\n",
      "19    67.527482\n",
      "8     67.748662\n",
      "23    68.594745\n",
      "7     68.923185\n",
      "Name: Ceftamin, dtype: float64\n",
      "For final tumor volumes with Ceftamin drug regimen:\n",
      "The lower quartile is: 48.72207785\n",
      "The upper quartile is: 64.29983003\n",
      "The interquartile range is: 15.577752179999997\n",
      "The the median is: 59.85195552 \n",
      "Values below 25.355449580000002 could be outliers.\n",
      "Values above 87.66645829999999 could be outliers.\n",
      "Ceftamim has no outliers\n"
     ]
    }
   ],
   "source": [
    "# Sorted value for Ceftamin\n",
    "print(\"Sorted final tumor volumes for Ceftamin\")\n",
    "print( tumor_size_by_drug[\"Ceftamin\"].sort_values() )\n",
    "\n",
    "#Calculate the quartiles and IQR for Ceftamin\n",
    "quartiles_ceftamin = tumor_size_by_drug[\"Ceftamin\"].quantile([.25,.5,.75])\n",
    "lowerq_ceftamin = quartiles_ceftamin[0.25]\n",
    "upperq_ceftamin = quartiles_ceftamin[0.75]\n",
    "iqr_ceftamin = upperq_ceftamin-lowerq_ceftamin\n",
    "\n",
    "print(\"For final tumor volumes with Ceftamin drug regimen:\")\n",
    "print(f\"The lower quartile is: {lowerq_ceftamin}\")\n",
    "print(f\"The upper quartile is: {upperq_ceftamin}\")\n",
    "print(f\"The interquartile range is: {iqr_ceftamin}\")\n",
    "print(f\"The the median is: {quartiles_ceftamin[0.5]} \")\n",
    "\n",
    "lower_bound_ceftamin = lowerq_ceftamin - (1.5*iqr_ceftamin)\n",
    "upper_bound_ceftamin = upperq_ceftamin + (1.5*iqr_ceftamin)\n",
    "print(f\"Values below {lower_bound_ceftamin} could be outliers.\")\n",
    "print(f\"Values above {upper_bound_ceftamin} could be outliers.\")\n",
    "print(\"Ceftamim has no outliers\")"
   ]
  },
  {
   "cell_type": "code",
   "execution_count": 372,
   "metadata": {},
   "outputs": [
    {
     "name": "stdout",
     "output_type": "stream",
     "text": [
      "Sorted final tumor volumes for Infubinol\n",
      "5     36.321346\n",
      "15    45.699331\n",
      "18    46.250112\n",
      "12    47.010364\n",
      "21    50.005138\n",
      "20    51.542431\n",
      "19    54.048608\n",
      "16    54.656549\n",
      "14    55.629428\n",
      "17    55.650681\n",
      "2     57.031862\n",
      "22    58.268442\n",
      "13    60.165180\n",
      "8     60.918767\n",
      "6     60.969711\n",
      "11    62.117279\n",
      "7     62.435404\n",
      "24    62.754451\n",
      "1     65.525743\n",
      "3     66.083066\n",
      "10    66.196912\n",
      "9     67.289621\n",
      "23    67.685569\n",
      "0     67.973419\n",
      "4     72.226731\n",
      "Name: Infubinol, dtype: float64\n",
      "For final tumor volumes with Infubinol drug regimen:\n",
      "The lower quartile of temperatures is: 54.04860769\n",
      "The upper quartile of temperatures is: 65.52574285\n",
      "The interquartile range of temperatures is: 11.477135160000003\n",
      "The the median of temperatures is: 60.16518046 \n",
      "Values below 36.83290494999999 could be outliers.\n",
      "Values above 82.74144559000001 could be outliers.\n",
      "Infubinol has outn outlier of 36.321346\n"
     ]
    }
   ],
   "source": [
    "# Sorted value for Infubinol\n",
    "print(\"Sorted final tumor volumes for Infubinol\")\n",
    "\n",
    "#Calculate the quartiles and IQR for Infubinol\n",
    "print( tumor_size_by_drug[\"Infubinol\"].sort_values() )\n",
    "quartiles_infubinol = tumor_size_by_drug[\"Infubinol\"].quantile([.25,.5,.75])\n",
    "lowerq_infubinol = quartiles_infubinol[0.25]\n",
    "upperq_infubinol = quartiles_infubinol[0.75]\n",
    "iqr_infubinol = upperq_infubinol-lowerq_infubinol\n",
    "\n",
    "print(\"For final tumor volumes with Infubinol drug regimen:\")\n",
    "print(f\"The lower quartile of temperatures is: {lowerq_infubinol}\")\n",
    "print(f\"The upper quartile of temperatures is: {upperq_infubinol}\")\n",
    "print(f\"The interquartile range of temperatures is: {iqr_infubinol}\")\n",
    "print(f\"The the median of temperatures is: {quartiles_infubinol[0.5]} \")\n",
    "\n",
    "lower_bound_infubinol = lowerq_infubinol - (1.5*iqr_infubinol)\n",
    "upper_bound_infubinol = upperq_infubinol + (1.5*iqr_infubinol)\n",
    "print(f\"Values below {lower_bound_infubinol} could be outliers.\")\n",
    "print(f\"Values above {upper_bound_infubinol} could be outliers.\")\n",
    "print(\"Infubinol has outn outlier of 36.321346\")"
   ]
  },
  {
   "cell_type": "code",
   "execution_count": 373,
   "metadata": {},
   "outputs": [
    {
     "data": {
      "image/png": "[encoded data removed]",
      "text/plain": [
       "<Figure size 432x288 with 1 Axes>"
      ]
     },
     "metadata": {
      "needs_background": "light"
     },
     "output_type": "display_data"
    }
   ],
   "source": [
    "# Generate a box plot of the final tumor volume of each mouse across four regimens of interest\n",
    "fig1, ax1 = plt.subplots()\n",
    "ax1.set_title('Final Tumor Volumes (mm3)')\n",
    "ax1.set_ylabel('Tumor Volume (mm3)')\n",
    "ax1.boxplot(final_tumor_size.values())\n",
    "ax1.set_xticklabels(final_tumor_size.keys())\n",
    "plt.show()"
   ]
  },
  {
   "cell_type": "markdown",
   "metadata": {},
   "source": [
    "## Line and scatter plots"
   ]
  },
  {
   "cell_type": "code",
   "execution_count": 374,
   "metadata": {},
   "outputs": [],
   "source": [
    "# Generate a line plot of time point versus tumor volume for a mouse treated with Capomulin"
   ]
  },
  {
   "cell_type": "code",
   "execution_count": null,
   "metadata": {},
   "outputs": [],
   "source": [
    "# Create data frame with data from only one mouse on Capomulin regimen\n",
    "mouse_x401_weight_v_tumor_vol = result[result[\"Mouse ID\"]==\"x401\"][[\"Tumor Volume (mm3)\",\"Timepoint\"]]"
   ]
  },
  {
   "cell_type": "code",
   "execution_count": 377,
   "metadata": {},
   "outputs": [
    {
     "ename": "AttributeError",
     "evalue": "module 'matplotlib.pyplot' has no attribute 'xlabam'",
     "output_type": "error",
     "traceback": [
      "\u001b[0;31m---------------------------------------------------------------------------\u001b[0m",
      "\u001b[0;31mAttributeError\u001b[0m                            Traceback (most recent call last)",
      "\u001b[0;32m<ipython-input-377-a7754f595cbf>\u001b[0m in \u001b[0;36m<module>\u001b[0;34m\u001b[0m\n\u001b[1;32m      3\u001b[0m \u001b[0mplt\u001b[0m\u001b[0;34m.\u001b[0m\u001b[0mtitle\u001b[0m\u001b[0;34m(\u001b[0m\u001b[0;34m'Tumor Volume Over Time for mouse x401'\u001b[0m\u001b[0;34m)\u001b[0m\u001b[0;34m\u001b[0m\u001b[0;34m\u001b[0m\u001b[0m\n\u001b[1;32m      4\u001b[0m \u001b[0mplt\u001b[0m\u001b[0;34m.\u001b[0m\u001b[0mylabel\u001b[0m\u001b[0;34m(\u001b[0m\u001b[0;34m'Tumor Volume (mm3)'\u001b[0m\u001b[0;34m)\u001b[0m\u001b[0;34m\u001b[0m\u001b[0;34m\u001b[0m\u001b[0m\n\u001b[0;32m----> 5\u001b[0;31m \u001b[0mplt\u001b[0m\u001b[0;34m.\u001b[0m\u001b[0mxlabam\u001b[0m\u001b[0;34m(\u001b[0m\u001b[0;34m'Time point'\u001b[0m\u001b[0;34m)\u001b[0m\u001b[0;34m\u001b[0m\u001b[0;34m\u001b[0m\u001b[0m\n\u001b[0m",
      "\u001b[0;31mAttributeError\u001b[0m: module 'matplotlib.pyplot' has no attribute 'xlabam'"
     ]
    },
    {
     "data": {
      "image/png": "[encoded data removed]",
      "text/plain": [
       "<Figure size 432x288 with 1 Axes>"
      ]
     },
     "metadata": {
      "needs_background": "light"
     },
     "output_type": "display_data"
    }
   ],
   "source": [
    "# Create line plot for mouse x401\n",
    "plt.plot(mouse_x401_weight_v_tumor_vol[\"Timepoint\"],mouse_x401_weight_v_tumor_vol[\"Tumor Volume (mm3)\"])\n",
    "plt.title('Tumor Volume Over Time for mouse x401')\n",
    "plt.ylabel('Tumor Volume (mm3)')\n",
    "plt.xlabam('Time point')"
   ]
  },
  {
   "cell_type": "code",
   "execution_count": 378,
   "metadata": {},
   "outputs": [],
   "source": [
    "# Generate a scatter plot of mouse weight versus average tumor volume for the Capomulin regimen\n",
    "# Create a group by of mice on the Capomulin regimen\n",
    "capomulin_results_by_mouse=result[result[\"Drug Regimen\"]==\"Capomulin\"].groupby(\"Mouse ID\")\n",
    "avg_weight_v_tumor_vol = capomulin_results_by_mouse[[\"Weight (g)\",\"Tumor Volume (mm3)\"]].mean()"
   ]
  },
  {
   "cell_type": "code",
   "execution_count": 379,
   "metadata": {},
   "outputs": [
    {
     "data": {
      "image/png": "[encoded data removed]",
      "text/plain": [
       "<Figure size 432x288 with 1 Axes>"
      ]
     },
     "metadata": {
      "needs_background": "light"
     },
     "output_type": "display_data"
    }
   ],
   "source": [
    "# Create scatter plot with a line regression\n",
    "x_values = avg_weight_v_tumor_vol[\"Weight (g)\"]\n",
    "y_values = avg_weight_v_tumor_vol[\"Tumor Volume (mm3)\"]\n",
    "(slope, intercept, rvalue, pvalue, stderr) = linregress(x_values, y_values)\n",
    "regress_values = x_values * slope + intercept\n",
    "line_eq = \"y = \" + str(round(slope,2)) + \"x + \" + str(round(intercept,2))\n",
    "plt.scatter(x_values,y_values)\n",
    "plt.plot(x_values,regress_values,\"r-\")\n",
    "plt.xlabel(\"Weight of Mouse (g)\")\n",
    "plt.ylabel(\"Tumor Volume (mm3)\")\n",
    "plt.annotate(line_eq,(6,10),fontsize=15,color=\"red\")\n",
    "plt.show()"
   ]
  },
  {
   "cell_type": "code",
   "execution_count": 380,
   "metadata": {},
   "outputs": [
    {
     "name": "stdout",
     "output_type": "stream",
     "text": [
      "The correlation between both factors is 0.84\n"
     ]
    }
   ],
   "source": [
    "# Calculate the correlation coefficient and linear regression model for mouse weight and average tumor volume for the Capomulin regimen\n",
    "correlation = st.pearsonr(x_values,y_values)\n",
    "print(f\"The correlation between both factors is {round(correlation[0],2)}\")"
   ]
  },
  {
   "cell_type": "markdown",
   "metadata": {},
   "source": [
    "# Observations"
   ]
  },
  {
   "cell_type": "markdown",
   "metadata": {},
   "source": [
    "There is a correlation between tumor volume and mouse weight, which makes sense as the volume of the tumor adds to the weight of the mouse. "
   ]
  },
  {
   "cell_type": "markdown",
   "metadata": {},
   "source": [
    "Ramicane and Capomulin have a significantly better final tumor volume, but we haven't done any analysis on the difference between initial tumor size and final tumor size which could have been an informative metric\n",
    "\n",
    "The groupings for the final tumor volumes for the 4 regimens studies are very tight and without any significant outliers"
   ]
  },
  {
   "cell_type": "code",
   "execution_count": null,
   "metadata": {},
   "outputs": [],
   "source": []
  }
 ],
 "metadata": {
  "anaconda-cloud": {},
  "kernelspec": {
   "display_name": "Python 3",
   "language": "python",
   "name": "python3"
  },
  "language_info": {
   "codemirror_mode": {
    "name": "ipython",
    "version": 3
   },
   "file_extension": ".py",
   "mimetype": "text/x-python",
   "name": "python",
   "nbconvert_exporter": "python",
   "pygments_lexer": "ipython3",
   "version": "3.7.4"
  }
 },
 "nbformat": 4,
 "nbformat_minor": 2
}
